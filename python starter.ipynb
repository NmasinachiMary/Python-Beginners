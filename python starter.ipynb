{
 "cells": [
  {
   "cell_type": "markdown",
   "id": "effc9ab6",
   "metadata": {},
   "source": [
    "<h1 style= \"font-size:3rem;color:orange;\">Jupyter Notebook Tutorial</h1>"
   ]
  },
  {
   "cell_type": "markdown",
   "id": "9228ffc1",
   "metadata": {},
   "source": [
    "#Python for Beginners"
   ]
  },
  {
   "cell_type": "code",
   "execution_count": 1,
   "id": "0235ad17",
   "metadata": {},
   "outputs": [
    {
     "ename": "SyntaxError",
     "evalue": "invalid syntax (<ipython-input-1-56c917d83ff9>, line 1)",
     "output_type": "error",
     "traceback": [
      "\u001b[1;36m  File \u001b[1;32m\"<ipython-input-1-56c917d83ff9>\"\u001b[1;36m, line \u001b[1;32m1\u001b[0m\n\u001b[1;33m    <img scr=\"https://picsum.photos/id/0/400/400>\"\u001b[0m\n\u001b[1;37m    ^\u001b[0m\n\u001b[1;31mSyntaxError\u001b[0m\u001b[1;31m:\u001b[0m invalid syntax\n"
     ]
    }
   ],
   "source": [
    "<img scr=\"https://picsum.photos/id/0/400/400>\""
   ]
  },
  {
   "cell_type": "markdown",
   "id": "d30a8ed8",
   "metadata": {},
   "source": [
    "<img scr=\"https://picsum.photos/id/0/400/400>\""
   ]
  },
  {
   "cell_type": "markdown",
   "id": "cdb68852",
   "metadata": {},
   "source": [
    "<img scr=\"https://picsum.photos/id/0/400/400>\""
   ]
  },
  {
   "cell_type": "markdown",
   "id": "18af1f92",
   "metadata": {},
   "source": [
    "<img scr=\"https://www.google.com/imgres?imgurl=https%3A%2F%2Fimages.unsplash.com%2Fphoto-1542353436-312f0e1f67ff%3Fixid%3DMnwxMjA3fDB8MHxzZWFyY2h8MXx8ZnJlZXxlbnwwfHwwfHw%253D%26ixlib%3Drb-1.2.1%26w%3D1000%26q%3D80&imgrefurl=https%3A%2F%2Funsplash.com%2Fs%2Fphotos%2Ffree&tbnid=r3Eb4vPjIVJnIM&vet=12ahUKEwitl6KAr-3zAhULSxoKHWk5Cx8QMygAegUIARDNAQ..i&docid=3wkP0UfsW3vNTM&w=1000&h=903&q=free%20photo&ved=2ahUKEwitl6KAr-3zAhULSxoKHWk5Cx8QMygAegUIARDNAQ\">"
   ]
  },
  {
   "cell_type": "code",
   "execution_count": 3,
   "id": "d07d48fe",
   "metadata": {},
   "outputs": [
    {
     "ename": "SyntaxError",
     "evalue": "invalid syntax (<ipython-input-3-85cdf6442ad9>, line 1)",
     "output_type": "error",
     "traceback": [
      "\u001b[1;36m  File \u001b[1;32m\"<ipython-input-3-85cdf6442ad9>\"\u001b[1;36m, line \u001b[1;32m1\u001b[0m\n\u001b[1;33m    <img scr=\"https://picsum.photos/id/0/400/400\">\u001b[0m\n\u001b[1;37m    ^\u001b[0m\n\u001b[1;31mSyntaxError\u001b[0m\u001b[1;31m:\u001b[0m invalid syntax\n"
     ]
    }
   ],
   "source": [
    "<img scr=\"https://picsum.photos/id/0/400/400\">"
   ]
  },
  {
   "cell_type": "markdown",
   "id": "26f03ed5",
   "metadata": {},
   "source": [
    "<img scr=\"https://picsum.photos/id/0/400/400\">"
   ]
  },
  {
   "cell_type": "code",
   "execution_count": 4,
   "id": "0ade8513",
   "metadata": {},
   "outputs": [
    {
     "name": "stdout",
     "output_type": "stream",
     "text": [
      "Hello World!\n"
     ]
    }
   ],
   "source": [
    "print(\"Hello World!\")"
   ]
  },
  {
   "cell_type": "code",
   "execution_count": 12,
   "id": "adf7149e",
   "metadata": {},
   "outputs": [],
   "source": [
    "##Insert a variable into a string"
   ]
  },
  {
   "cell_type": "code",
   "execution_count": 15,
   "id": "e80e9b59",
   "metadata": {},
   "outputs": [
    {
     "name": "stdout",
     "output_type": "stream",
     "text": [
      "What is your name?Mary\n",
      "Hello, Mary!\n"
     ]
    }
   ],
   "source": [
    "person = input(\"What is your name?\")\n",
    "messsage = \"Hello, {}!\" .format(person)\n",
    "print(message)"
   ]
  },
  {
   "cell_type": "code",
   "execution_count": 13,
   "id": "7b197def",
   "metadata": {},
   "outputs": [],
   "source": [
    "## Multiline Strings and String Length"
   ]
  },
  {
   "cell_type": "code",
   "execution_count": 11,
   "id": "9c5cc31e",
   "metadata": {},
   "outputs": [
    {
     "name": "stdout",
     "output_type": "stream",
     "text": [
      "Once upon a time\n",
      "there live a bear family who ate deliciouse pizza\n",
      "66\n"
     ]
    }
   ],
   "source": [
    "story = \"\"\"Once upon a time\n",
    "there live a bear family who ate deliciouse pizza\"\"\"\n",
    "print(story)\n",
    "print(len(story))"
   ]
  },
  {
   "cell_type": "markdown",
   "id": "577150ee",
   "metadata": {},
   "source": [
    "##Math Operations"
   ]
  },
  {
   "cell_type": "code",
   "execution_count": 19,
   "id": "f8fa688d",
   "metadata": {},
   "outputs": [
    {
     "name": "stdout",
     "output_type": "stream",
     "text": [
      "5.25\n",
      "1\n"
     ]
    }
   ],
   "source": [
    "x = 7\n",
    "y = 4\n",
    "z = (x * 3) / y\n",
    "m = (x * 3) % y #modulo returns the remainder\n",
    "print(z)\n",
    "print(m)"
   ]
  },
  {
   "cell_type": "markdown",
   "id": "15eb660d",
   "metadata": {},
   "source": [
    "Lists(arrays)"
   ]
  },
  {
   "cell_type": "code",
   "execution_count": 22,
   "id": "c0f6710e",
   "metadata": {},
   "outputs": [
    {
     "name": "stdout",
     "output_type": "stream",
     "text": [
      "['Monica', 'Mary', 'Maria', 'Mattew', 'Mark', 'Mavel']\n",
      "Maria\n"
     ]
    }
   ],
   "source": [
    "friends = ['Monica', 'Mary', 'Maria', 'Mattew', 'Mark', 'Mavel']\n",
    "print(friends)\n",
    "print(friends[2])"
   ]
  },
  {
   "cell_type": "code",
   "execution_count": null,
   "id": "8269aee7",
   "metadata": {},
   "outputs": [],
   "source": []
  }
 ],
 "metadata": {
  "kernelspec": {
   "display_name": "Python 3",
   "language": "python",
   "name": "python3"
  },
  "language_info": {
   "codemirror_mode": {
    "name": "ipython",
    "version": 3
   },
   "file_extension": ".py",
   "mimetype": "text/x-python",
   "name": "python",
   "nbconvert_exporter": "python",
   "pygments_lexer": "ipython3",
   "version": "3.8.8"
  }
 },
 "nbformat": 4,
 "nbformat_minor": 5
}
